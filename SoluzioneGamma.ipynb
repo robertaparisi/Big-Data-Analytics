{
 "cells": [
  {
   "cell_type": "markdown",
   "metadata": {},
   "source": [
    "### Soluzione Gamma\n",
    "\n",
    "Importing packages"
   ]
  },
  {
   "cell_type": "code",
   "execution_count": 1,
   "metadata": {},
   "outputs": [],
   "source": [
    "import pandas as pd\n",
    "import os\n",
    "# from collections import Counter, OrderedDict\n",
    "# import operator\n",
    "# import itertools\n",
    "# from itertools import chain\n",
    "import numpy as np"
   ]
  },
  {
   "cell_type": "code",
   "execution_count": 2,
   "metadata": {},
   "outputs": [],
   "source": [
    "os.chdir(\"C:/Users/r.parisi.cons/Desktop/Materiale didattico/BDA\")\n",
    "dfposts = pd.read_csv(\"posts.txt\", sep=\";\")\n",
    "dfposts['post_id'] = dfposts['id']\n",
    "dfposts.drop('id', inplace=True, axis=1)\n",
    "dfcomments = pd.read_csv(\"comments.txt\", sep=\";\")"
   ]
  },
  {
   "cell_type": "markdown",
   "metadata": {},
   "source": [
    "### TASK 1 : compute and show the average likes for each comments\n"
   ]
  },
  {
   "cell_type": "code",
   "execution_count": 3,
   "metadata": {},
   "outputs": [
    {
     "name": "stdout",
     "output_type": "stream",
     "text": [
      "58\n"
     ]
    }
   ],
   "source": [
    "avg_likes = np.round(np.mean(dfcomments[\"likes\"]),0).astype(int)\n",
    "print(avg_likes)"
   ]
  },
  {
   "cell_type": "markdown",
   "metadata": {},
   "source": [
    "### TASK2: find and show the post that have comments with more likes respect the average"
   ]
  },
  {
   "cell_type": "code",
   "execution_count": 4,
   "metadata": {},
   "outputs": [],
   "source": [
    "def extract_place_starts_id_post (b):\n",
    "    store = []\n",
    "    for stringa in range (len(b)):\n",
    "        for substring in range( len(b[stringa])):\n",
    "            if b[stringa][substring] == \"_\":\n",
    "                store.append(substring)\n",
    "                break;\n",
    "    return(store)\n",
    "\n",
    "\n",
    "def create_true_id_post_column (df):\n",
    "    store_list = extract_place_starts_id_post(df[\"post_id\"])\n",
    "    post_id_true = []\n",
    "    for i in range (len(df)):\n",
    "        post_id_true.append( df[\"post_id\"][i][store_list[i]+1:])\n",
    "    df[\"true_post_id\"] = post_id_true\n",
    "    \n",
    "def interesting_comments(dfcomments, dfposts):\n",
    "    post_toshow = []\n",
    "    for i in range(len(dfcomments)):\n",
    "        if (dfcomments.iloc[i][\"likes\"]> avg_likes):\n",
    "            post_toshow.append(dfcomments.iloc[i][\"post_id\"])\n",
    "    #TODO  extract post and show it\n",
    "# def extract_post_related_to_comments (dfcomments, dfposts, idpost):\n",
    "#     if dfposts.iloc[i][\"post_id\"] == \n",
    "\n",
    "\n",
    "\n",
    "            "
   ]
  },
  {
   "cell_type": "code",
   "execution_count": 5,
   "metadata": {},
   "outputs": [],
   "source": [
    "create_true_id_post_column(dfcomments)\n",
    "create_true_id_post_column(dfposts)"
   ]
  },
  {
   "cell_type": "code",
   "execution_count": 12,
   "metadata": {},
   "outputs": [],
   "source": [
    "a = dfcomments[\"true_post_id\"]\n"
   ]
  },
  {
   "cell_type": "code",
   "execution_count": 7,
   "metadata": {},
   "outputs": [],
   "source": [
    "b= dfposts[\"true_post_id\"] \n",
    "            "
   ]
  },
  {
   "cell_type": "code",
   "execution_count": 16,
   "metadata": {},
   "outputs": [
    {
     "data": {
      "text/plain": [
       "True"
      ]
     },
     "execution_count": 16,
     "metadata": {},
     "output_type": "execute_result"
    }
   ],
   "source": [
    "a = [\"ciao\",\"casa\", \"Milano\", \"ruota\"]\n",
    "b = [\"casa\", \"Milano\", \"ruota\"]\n",
    "a[1] in b"
   ]
  },
  {
   "cell_type": "code",
   "execution_count": 14,
   "metadata": {},
   "outputs": [
    {
     "name": "stdout",
     "output_type": "stream",
     "text": [
      "False\n",
      "False\n",
      "False\n",
      "False\n",
      "False\n",
      "False\n",
      "False\n",
      "False\n",
      "False\n",
      "False\n",
      "False\n",
      "False\n",
      "False\n",
      "False\n",
      "False\n",
      "False\n",
      "False\n",
      "False\n",
      "False\n"
     ]
    }
   ],
   "source": [
    "for i in range(len(b)):\n",
    "    print(b[i] in a)"
   ]
  }
 ],
 "metadata": {
  "kernelspec": {
   "display_name": "Python 3",
   "language": "python",
   "name": "python3"
  },
  "language_info": {
   "codemirror_mode": {
    "name": "ipython",
    "version": 3
   },
   "file_extension": ".py",
   "mimetype": "text/x-python",
   "name": "python",
   "nbconvert_exporter": "python",
   "pygments_lexer": "ipython3",
   "version": "3.6.4"
  }
 },
 "nbformat": 4,
 "nbformat_minor": 2
}
